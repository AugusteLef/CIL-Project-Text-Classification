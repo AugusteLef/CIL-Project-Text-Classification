{
 "cells": [
  {
   "cell_type": "markdown",
   "metadata": {},
   "source": [
    "# Preprocessing"
   ]
  },
  {
   "cell_type": "markdown",
   "metadata": {},
   "source": [
    "Different text preprocessing methods for tweet sentiment analysis "
   ]
  },
  {
   "cell_type": "markdown",
   "metadata": {},
   "source": [
    "### read datasets"
   ]
  },
  {
   "cell_type": "code",
   "execution_count": 5,
   "metadata": {},
   "outputs": [
    {
     "data": {
      "text/plain": [
       "<function TextIOWrapper.close()>"
      ]
     },
     "execution_count": 5,
     "metadata": {},
     "output_type": "execute_result"
    }
   ],
   "source": [
    "#change this with your folder path\n",
    "default_path = '/home/atroska/Documents/Zurich/MA2/CIL/Project/Datas/twitter-datasets/'\n",
    "train_pos_path = default_path + 'train_pos.txt'\n",
    "train_pos_full_path = default_path + 'train_pos_full.txt'\n",
    "train_neg_path = default_path + 'train_neg.txt'\n",
    "train_neg_full_path = default_path + 'train_neg_full.txt'\n",
    "\n",
    "\n",
    "with open(train_pos_path) as f:\n",
    "    train_pos = f.readlines()\n",
    "f.close\n",
    "\n",
    "with open(train_neg_path) as f:\n",
    "    train_neg = f.readlines()\n",
    "f.close\n",
    "\n",
    "with open(train_pos_full_path)as f:\n",
    "    train_pos_full = f.readlines()\n",
    "f.close\n",
    "\n",
    "with open(train_neg_full_path) as f:\n",
    "    train_neg_full = f.readlines()\n",
    "f.close"
   ]
  },
  {
   "cell_type": "code",
   "execution_count": null,
   "metadata": {},
   "outputs": [],
   "source": []
  },
  {
   "cell_type": "code",
   "execution_count": null,
   "metadata": {},
   "outputs": [],
   "source": []
  },
  {
   "cell_type": "code",
   "execution_count": null,
   "metadata": {},
   "outputs": [],
   "source": []
  }
 ],
 "metadata": {
  "kernelspec": {
   "display_name": "Python 3",
   "language": "python",
   "name": "python3"
  },
  "language_info": {
   "codemirror_mode": {
    "name": "ipython",
    "version": 3
   },
   "file_extension": ".py",
   "mimetype": "text/x-python",
   "name": "python",
   "nbconvert_exporter": "python",
   "pygments_lexer": "ipython3",
   "version": "3.7.4"
  }
 },
 "nbformat": 4,
 "nbformat_minor": 2
}
