{
 "cells": [
  {
   "cell_type": "code",
   "execution_count": 10,
   "metadata": {},
   "outputs": [
    {
     "name": "stdout",
     "output_type": "stream",
     "text": [
      "/Users/marcwatine/Desktop/ETHZ/MA2/Computational_Intelligence_LAB/CIL-Project-Text-Classification/Marc\n"
     ]
    }
   ],
   "source": [
    "print(os.path.abspath(''))"
   ]
  },
  {
   "cell_type": "code",
   "execution_count": 12,
   "metadata": {},
   "outputs": [],
   "source": [
    "dict_path = os.path.join(os.path.abspath(''), 'dict.txt')\n",
    "dictionary = dict(entry(line) for line in open(dict_path))\n",
    "max_word_length = max(map(len, dictionary))\n",
    "total = float(sum(dictionary.values()))"
   ]
  },
  {
   "cell_type": "code",
   "execution_count": 13,
   "metadata": {},
   "outputs": [],
   "source": [
    "import re\n",
    "from itertools import groupby\n",
    "import os\n",
    "\n",
    "cleanup = re.compile(r'[^a-z0-9]')\n",
    "\n",
    "# http://stackoverflow.com/a/481773/554406\n",
    "def segment(text):\n",
    "  text = re.sub(cleanup, '', text)\n",
    "  probs, lasts = [1.0], [0]\n",
    "  for i in range(1, len(text) + 1):\n",
    "    prob_k, k = max(\n",
    "      (probs[j] * word_prob(text[j:i]), j)\n",
    "      for j in range(max(0, i - max_word_length), i)\n",
    "    )\n",
    "    probs.append(prob_k)\n",
    "    lasts.append(k)\n",
    "  words = []\n",
    "  i = len(text)\n",
    "  while 0 < i:\n",
    "    words.append(text[lasts[i]:i])\n",
    "    i = lasts[i]\n",
    "  words.reverse()\n",
    "  return words, probs[-1]\n",
    "\n",
    "def word_prob(word): return dictionary.get(word, 0) / total\n",
    "\n",
    "def entry(line): \n",
    "  w, c = line.split(\"\\t\", 2)\n",
    "  return (w, int(c))\n",
    "\n"
   ]
  },
  {
   "cell_type": "code",
   "execution_count": null,
   "metadata": {},
   "outputs": [],
   "source": []
  }
 ],
 "metadata": {
  "kernelspec": {
   "display_name": "Python 3",
   "language": "python",
   "name": "python3"
  },
  "language_info": {
   "codemirror_mode": {
    "name": "ipython",
    "version": 3
   },
   "file_extension": ".py",
   "mimetype": "text/x-python",
   "name": "python",
   "nbconvert_exporter": "python",
   "pygments_lexer": "ipython3",
   "version": "3.7.4"
  }
 },
 "nbformat": 4,
 "nbformat_minor": 2
}
