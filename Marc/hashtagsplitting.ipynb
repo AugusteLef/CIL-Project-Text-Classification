{
 "cells": [
  {
   "cell_type": "code",
   "execution_count": 10,
   "metadata": {},
   "outputs": [
    {
     "name": "stdout",
     "output_type": "stream",
     "text": [
      "/Users/marcwatine/Desktop/ETHZ/MA2/Computational_Intelligence_LAB/CIL-Project-Text-Classification/Marc\n"
     ]
    }
   ],
   "source": [
    "print(os.path.abspath(''))"
   ]
  },
  {
   "cell_type": "code",
   "execution_count": 12,
   "metadata": {},
   "outputs": [],
   "source": [
    "dict_path = os.path.join(os.path.abspath(''), 'dict.txt')\n",
    "dictionary = dict(entry(line) for line in open(dict_path))\n",
    "max_word_length = max(map(len, dictionary))\n",
    "total = float(sum(dictionary.values()))"
   ]
  },
  {
   "cell_type": "code",
   "execution_count": 13,
   "metadata": {},
   "outputs": [],
   "source": [
    "import re\n",
    "from itertools import groupby\n",
    "import os\n",
    "\n",
    "cleanup = re.compile(r'[^a-z0-9]')\n",
    "\n",
    "# http://stackoverflow.com/a/481773/554406\n",
    "def segment(text):\n",
    "  text = re.sub(cleanup, '', text)\n",
    "  probs, lasts = [1.0], [0]\n",
    "  for i in range(1, len(text) + 1):\n",
    "    prob_k, k = max(\n",
    "      (probs[j] * word_prob(text[j:i]), j)\n",
    "      for j in range(max(0, i - max_word_length), i)\n",
    "    )\n",
    "    probs.append(prob_k)\n",
    "    lasts.append(k)\n",
    "  words = []\n",
    "  i = len(text)\n",
    "  while 0 < i:\n",
    "    words.append(text[lasts[i]:i])\n",
    "    i = lasts[i]\n",
    "  words.reverse()\n",
    "  return words, probs[-1]\n",
    "\n",
    "def word_prob(word): return dictionary.get(word, 0) / total\n",
    "\n",
    "def entry(line): \n",
    "  w, c = line.split(\"\\t\", 2)\n",
    "  return (w, int(c))\n",
    "\n"
   ]
  },
  {
   "cell_type": "code",
   "execution_count": 38,
   "metadata": {},
   "outputs": [
    {
     "data": {
      "text/plain": [
       "<function TextIOWrapper.close()>"
      ]
     },
     "execution_count": 38,
     "metadata": {},
     "output_type": "execute_result"
    }
   ],
   "source": [
    "#change this with your folder path\n",
    "default_path = '/Volumes/MarcWatineHD/ETH/CIL/project_data/twitter-datasets/'\n",
    "train_pos_path = default_path + 'train_pos.txt'\n",
    "train_pos_full_path = default_path + 'train_pos_full.txt'\n",
    "train_neg_path = default_path + 'train_neg.txt'\n",
    "train_neg_full_path = default_path + 'train_neg_full.txt'\n",
    "\n",
    "\n",
    "with open(train_pos_path) as f:\n",
    "    train_pos = f.readlines()\n",
    "f.close\n",
    "\n",
    "with open(train_neg_path) as f:\n",
    "    train_neg = f.readlines()\n",
    "f.close\n",
    "\n",
    "with open(train_pos_full_path)as f:\n",
    "    train_pos_full = f.readlines()\n",
    "f.close\n",
    "\n",
    "with open(train_neg_full_path) as f:\n",
    "    train_neg_full = f.readlines()\n",
    "f.close\n",
    "\n"
   ]
  },
  {
   "cell_type": "code",
   "execution_count": 48,
   "metadata": {},
   "outputs": [
    {
     "data": {
      "text/plain": [
       "(['1d', 'next', 'album', 'title'], 2.621704963548764e-17)"
      ]
     },
     "execution_count": 48,
     "metadata": {},
     "output_type": "execute_result"
    }
   ],
   "source": [
    "segment('1dnextalbumtitle')"
   ]
  },
  {
   "cell_type": "code",
   "execution_count": 67,
   "metadata": {},
   "outputs": [],
   "source": [
    "s = '<user> #1dnextalbumtitle : feel for you / rollercoaster of life . song cocept : life , #yolo , becoming famous ? <3 14 #followmeplz ! <3 x15'"
   ]
  },
  {
   "cell_type": "code",
   "execution_count": 68,
   "metadata": {},
   "outputs": [],
   "source": [
    "t = re.findall(r\"#(\\w+)\", s)"
   ]
  },
  {
   "cell_type": "code",
   "execution_count": 74,
   "metadata": {},
   "outputs": [
    {
     "data": {
      "text/plain": [
       "'<user> ihi : feel for you / rollercoaster of life . song cocept : life , #yolo , becoming famous ? <3 14 #followmeplz ! <3 x15'"
      ]
     },
     "execution_count": 74,
     "metadata": {},
     "output_type": "execute_result"
    }
   ],
   "source": [
    "s.replace('#'+str('1dnextalbumtitle'), 'ihi')"
   ]
  },
  {
   "cell_type": "code",
   "execution_count": 75,
   "metadata": {
    "scrolled": true
   },
   "outputs": [
    {
     "name": "stdout",
     "output_type": "stream",
     "text": [
      "1dnextalbumtitle 1d next album title\n",
      "yolo yolo\n",
      "followmeplz follow me plz\n"
     ]
    }
   ],
   "source": [
    "sp = [None]*len(t)\n",
    "for j in range(len(t)):\n",
    "    sp[j] = segment(t[j])\n",
    "    print(str(t[j]), ' '.join(sp[j][0]))\n",
    "    a = s.replace('#'+str(t[j]), ' '.join(sp[j][0]))"
   ]
  },
  {
   "cell_type": "code",
   "execution_count": 81,
   "metadata": {},
   "outputs": [],
   "source": [
    "def split_hashtags(tweet: str) -> str:\n",
    "    \"\"\" Remove punct and special chars '!\"#$%&\\'()*+,-./:;<=>?@[\\\\]^_`{|}~'\n",
    "\n",
    "    Args:\n",
    "        tweet (string): tweet as string\n",
    "\n",
    "    Returns:\n",
    "        string: tweet without hashtags and splitted\n",
    "    \"\"\"\n",
    "    hashtags_list = re.findall(r\"#(\\w+)\", tweet)\n",
    "    splits = [None] * len(hashtags_list)\n",
    "    for j in range(len(hashtags_list)):\n",
    "        splits[j] = segment(hashtags_list[j])\n",
    "        tweet = tweet.replace('#' + str(hashtags_list[j]), ' '.join(splits[j][0]))\n",
    "    return tweet"
   ]
  },
  {
   "cell_type": "code",
   "execution_count": 76,
   "metadata": {
    "scrolled": true
   },
   "outputs": [
    {
     "data": {
      "text/plain": [
       "'<user> #1dnextalbumtitle : feel for you / rollercoaster of life . song cocept : life , #yolo , becoming famous ? <3 14 follow me plz ! <3 x15'"
      ]
     },
     "execution_count": 76,
     "metadata": {},
     "output_type": "execute_result"
    }
   ],
   "source": [
    "a"
   ]
  },
  {
   "cell_type": "code",
   "execution_count": 53,
   "metadata": {
    "scrolled": true
   },
   "outputs": [
    {
     "data": {
      "text/plain": [
       "[(['1d', 'next', 'album', 'title'], 2.621704963548764e-17),\n",
       " (['yolo'], 4.434342027895559e-06),\n",
       " (['follow', 'me', 'plz'], 4.38578897673973e-10)]"
      ]
     },
     "execution_count": 53,
     "metadata": {},
     "output_type": "execute_result"
    }
   ],
   "source": [
    "splitted"
   ]
  },
  {
   "cell_type": "code",
   "execution_count": 79,
   "metadata": {},
   "outputs": [
    {
     "name": "stdout",
     "output_type": "stream",
     "text": [
      "<user> i dunno justin read my mention or not . only justin and god knows about that , but i hope you will follow me believe 15\n",
      "\n",
      "NOW\n",
      "<user> i dunno justin read my mention or not . only justin and god knows about that , but i hope you will follow me believe 15\n",
      "\n",
      "because your logic is so dumb , i won't even crop out your name or your photo . tsk . <url>\n",
      "\n",
      "NOW\n",
      "because your logic is so dumb , i won't even crop out your name or your photo . tsk . <url>\n",
      "\n",
      "\" <user> just put casper in a box ! \" looved the battle ! cra kk bitch\n",
      "\n",
      "NOW\n",
      "\" <user> just put casper in a box ! \" looved the battle ! cra kk bitch\n",
      "\n",
      "<user> <user> thanks sir > > don't trip lil mama ... just keep doin ya thang !\n",
      "\n",
      "NOW\n",
      "<user> <user> thanks sir > > don't trip lil mama ... just keep doin ya thang !\n",
      "\n",
      "visiting my brother tmr is the bestest birthday gift eveerrr ! ! !\n",
      "\n",
      "NOW\n",
      "visiting my brother tmr is the bestest birthday gift eveerrr ! ! !\n",
      "\n",
      "<user> yay ! ! life completed . tweet / facebook me to let me know please\n",
      "\n",
      "NOW\n",
      "<user> yay ! ! life completed . tweet / facebook me to let me know please\n",
      "\n",
      "<user> 1d next album title : feel for you / rollercoaster of life . song cocept : life , yolo , becoming famous ? <3 14 follow me plz ! <3 x15\n",
      "\n",
      "NOW\n",
      "<user> 1d next album title : feel for you / rollercoaster of life . song cocept : life , yolo , becoming famous ? <3 14 follow me plz ! <3 x15\n",
      "\n",
      "workin hard or hardly workin rt <user> at hardee's with my future coworker <user>\n",
      "\n",
      "NOW\n",
      "workin hard or hardly workin rt <user> at hardee's with my future coworker <user>\n",
      "\n",
      "<user> i saw . i'll be replying in a bit .\n",
      "\n",
      "NOW\n",
      "<user> i saw . i'll be replying in a bit .\n",
      "\n",
      "this is were i belong\n",
      "\n",
      "NOW\n",
      "this is were i belong\n",
      "\n",
      "<user> anddd to cheer nationals 2013 ?\n",
      "\n",
      "NOW\n",
      "<user> anddd to cheer nationals 2013 ?\n",
      "\n",
      "we send an invitation to shop on-line ! here you will find everything you need - without leaving home ... <url>\n",
      "\n",
      "NOW\n",
      "we send an invitation to shop on-line ! here you will find everything you need - without leaving home ... <url>\n",
      "\n",
      "just woke up , finna go to church\n",
      "\n",
      "NOW\n",
      "just woke up , finna go to church\n",
      "\n",
      "<user> agreed ! 12 more days left tho\n",
      "\n",
      "NOW\n",
      "<user> agreed ! 12 more days left tho\n",
      "\n",
      "monet with katemelo\n",
      "\n",
      "NOW\n",
      "monet with katemelo\n",
      "\n",
      "like dammm <user> lexis u got a lot to say when ur on twitter lol\n",
      "\n",
      "NOW\n",
      "like dammm <user> lexis u got a lot to say when ur on twitter lol\n",
      "\n",
      "grateful today for a dream fulfilled ! ! my heart is so full - first 3 completed tracks have arrived back from new york ! yes lord !\n",
      "\n",
      "NOW\n",
      "grateful today for a dream fulfilled ! ! my heart is so full - first 3 completed tracks have arrived back from new york ! yes lord !\n",
      "\n",
      "<user> at home affairs shall do it later\n",
      "\n",
      "NOW\n",
      "<user> at home affairs shall do it later\n",
      "\n",
      "barca bout to beat real madrid on saturday doe\n",
      "\n",
      "NOW\n",
      "barca bout to beat real madrid on saturday doe\n",
      "\n",
      "<user> a lot of parts of asia . especially rats that live in the country and live on grains . supposed to be quite tasty .\n",
      "\n",
      "NOW\n",
      "<user> a lot of parts of asia . especially rats that live in the country and live on grains . supposed to be quite tasty .\n",
      "\n",
      "<user> <user> i wasn't even sleeping . so shut cho ole go back to sleep lookin ass\n",
      "\n",
      "NOW\n",
      "<user> <user> i wasn't even sleeping . so shut cho ole go back to sleep lookin ass\n",
      "\n",
      "i have the worlds best dad . <3\n",
      "\n",
      "NOW\n",
      "i have the worlds best dad . <3\n",
      "\n",
      "<user> <user> ab jaeyay werna meeting khatam hi hojaeygi baaqi ki buttering baad may karaygay hum sab\n",
      "\n",
      "NOW\n",
      "<user> <user> ab jaeyay werna meeting khatam hi hojaeygi baaqi ki buttering baad may karaygay hum sab\n",
      "\n",
      "<user> no one doubts that ability !\n",
      "\n",
      "NOW\n",
      "<user> no one doubts that ability !\n",
      "\n",
      "<user> check my tweet pic out . that was the outfit before . this is it after\n",
      "\n",
      "NOW\n",
      "<user> check my tweet pic out . that was the outfit before . this is it after\n",
      "\n",
      "just got my mid-term and i'm impressed ! ! happy\n",
      "\n",
      "NOW\n",
      "just got my mid-term and i'm impressed ! ! happy\n",
      "\n",
      "my summer days : 1 . ) work from 10:30- 2:30 ish .. 2 . ) home , shower , & eat ... 3 . ) go out till whenever and do it all over again\n",
      "\n",
      "NOW\n",
      "my summer days : 1 . ) work from 10:30- 2:30 ish .. 2 . ) home , shower , & eat ... 3 . ) go out till whenever and do it all over again\n",
      "\n",
      "<user> lol nooo .. food is ur friend\n",
      "\n",
      "NOW\n",
      "<user> lol nooo .. food is ur friend\n",
      "\n",
      "<user> 16 million britney fan rt and tweet\n",
      "\n",
      "NOW\n",
      "<user> 16 million britney fan rt and tweet\n",
      "\n",
      "<user> but seriously though .. it's called vanity fairest\n",
      "\n",
      "NOW\n",
      "<user> but seriously though .. it's called vanity fairest\n",
      "\n"
     ]
    }
   ],
   "source": [
    "test=[None]*30\n",
    "new_train_pos=[None]*30\n",
    "for i in range(30):\n",
    "    print(train_pos[i])\n",
    "    test[i] = re.findall(r\"#(\\w+)\", train_pos[i])\n",
    "    splitted = [None]*len(test[i])\n",
    "    for j in range(len(test[i])):\n",
    "        splitted[j] = segment(test[i][j])\n",
    "        print(\"oki\")\n",
    "        print(' '.join(splitted[j][0]))\n",
    "        train_pos[i] = train_pos[i].replace('#'+str(test[i][j]), ' '.join(splitted[j][0]))\n",
    "    print('NOW')\n",
    "    print(train_pos[i])"
   ]
  },
  {
   "cell_type": "code",
   "execution_count": null,
   "metadata": {},
   "outputs": [],
   "source": []
  },
  {
   "cell_type": "code",
   "execution_count": 29,
   "metadata": {},
   "outputs": [
    {
     "data": {
      "text/plain": [
       "(['life', 'completed'], 3.063060041571486e-08)"
      ]
     },
     "execution_count": 29,
     "metadata": {},
     "output_type": "execute_result"
    }
   ],
   "source": [
    "segment('lifecompleted')"
   ]
  },
  {
   "cell_type": "code",
   "execution_count": 27,
   "metadata": {},
   "outputs": [
    {
     "data": {
      "text/plain": [
       "[['believe'],\n",
       " [],\n",
       " ['crakkbitch'],\n",
       " [],\n",
       " [],\n",
       " ['lifecompleted'],\n",
       " ['1dnextalbumtitle', 'yolo', 'followmeplz'],\n",
       " [],\n",
       " [],\n",
       " []]"
      ]
     },
     "execution_count": 27,
     "metadata": {},
     "output_type": "execute_result"
    }
   ],
   "source": [
    "test"
   ]
  },
  {
   "cell_type": "code",
   "execution_count": null,
   "metadata": {},
   "outputs": [],
   "source": []
  }
 ],
 "metadata": {
  "kernelspec": {
   "display_name": "Python 3",
   "language": "python",
   "name": "python3"
  },
  "language_info": {
   "codemirror_mode": {
    "name": "ipython",
    "version": 3
   },
   "file_extension": ".py",
   "mimetype": "text/x-python",
   "name": "python",
   "nbconvert_exporter": "python",
   "pygments_lexer": "ipython3",
   "version": "3.7.4"
  }
 },
 "nbformat": 4,
 "nbformat_minor": 2
}
