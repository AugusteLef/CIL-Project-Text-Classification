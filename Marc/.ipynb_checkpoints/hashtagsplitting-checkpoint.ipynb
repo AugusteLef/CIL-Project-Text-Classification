{
 "cells": [
  {
   "cell_type": "code",
   "execution_count": 10,
   "metadata": {},
   "outputs": [
    {
     "name": "stdout",
     "output_type": "stream",
     "text": [
      "/Users/marcwatine/Desktop/ETHZ/MA2/Computational_Intelligence_LAB/CIL-Project-Text-Classification/Marc\n"
     ]
    }
   ],
   "source": [
    "print(os.path.abspath(''))"
   ]
  },
  {
   "cell_type": "code",
   "execution_count": 12,
   "metadata": {},
   "outputs": [],
   "source": [
    "dict_path = os.path.join(os.path.abspath(''), 'dict.txt')\n",
    "dictionary = dict(entry(line) for line in open(dict_path))\n",
    "max_word_length = max(map(len, dictionary))\n",
    "total = float(sum(dictionary.values()))"
   ]
  },
  {
   "cell_type": "code",
   "execution_count": 13,
   "metadata": {},
   "outputs": [],
   "source": [
    "import re\n",
    "from itertools import groupby\n",
    "import os\n",
    "\n",
    "cleanup = re.compile(r'[^a-z0-9]')\n",
    "\n",
    "# http://stackoverflow.com/a/481773/554406\n",
    "def segment(text):\n",
    "  text = re.sub(cleanup, '', text)\n",
    "  probs, lasts = [1.0], [0]\n",
    "  for i in range(1, len(text) + 1):\n",
    "    prob_k, k = max(\n",
    "      (probs[j] * word_prob(text[j:i]), j)\n",
    "      for j in range(max(0, i - max_word_length), i)\n",
    "    )\n",
    "    probs.append(prob_k)\n",
    "    lasts.append(k)\n",
    "  words = []\n",
    "  i = len(text)\n",
    "  while 0 < i:\n",
    "    words.append(text[lasts[i]:i])\n",
    "    i = lasts[i]\n",
    "  words.reverse()\n",
    "  return words, probs[-1]\n",
    "\n",
    "def word_prob(word): return dictionary.get(word, 0) / total\n",
    "\n",
    "def entry(line): \n",
    "  w, c = line.split(\"\\t\", 2)\n",
    "  return (w, int(c))\n",
    "\n"
   ]
  },
  {
   "cell_type": "code",
   "execution_count": 21,
   "metadata": {},
   "outputs": [
    {
     "data": {
      "text/plain": [
       "<function TextIOWrapper.close()>"
      ]
     },
     "execution_count": 21,
     "metadata": {},
     "output_type": "execute_result"
    }
   ],
   "source": [
    "#change this with your folder path\n",
    "default_path = '/Volumes/MarcWatineHD/ETH/CIL/project_data/twitter-datasets/'\n",
    "train_pos_path = default_path + 'train_pos.txt'\n",
    "train_pos_full_path = default_path + 'train_pos_full.txt'\n",
    "train_neg_path = default_path + 'train_neg.txt'\n",
    "train_neg_full_path = default_path + 'train_neg_full.txt'\n",
    "\n",
    "\n",
    "with open(train_pos_path) as f:\n",
    "    train_pos = f.readlines()\n",
    "f.close\n",
    "\n",
    "with open(train_neg_path) as f:\n",
    "    train_neg = f.readlines()\n",
    "f.close\n",
    "\n",
    "with open(train_pos_full_path)as f:\n",
    "    train_pos_full = f.readlines()\n",
    "f.close\n",
    "\n",
    "with open(train_neg_full_path) as f:\n",
    "    train_neg_full = f.readlines()\n",
    "f.close\n",
    "\n"
   ]
  },
  {
   "cell_type": "code",
   "execution_count": 35,
   "metadata": {},
   "outputs": [],
   "source": [
    "list1 = ['1', '2', '3']\n",
    "str1 = ''.join(list1)"
   ]
  },
  {
   "cell_type": "code",
   "execution_count": null,
   "metadata": {},
   "outputs": [],
   "source": []
  },
  {
   "cell_type": "code",
   "execution_count": 34,
   "metadata": {},
   "outputs": [
    {
     "name": "stdout",
     "output_type": "stream",
     "text": [
      "(['believe'], 0.0003851542789943571)\n",
      "(['cra', 'kk', 'bitch'], 5.198505344101898e-15)\n",
      "(['life', 'completed'], 3.063060041571486e-08)\n",
      "(['1d', 'next', 'album', 'title'], 2.621704963548764e-17)\n",
      "(['yolo'], 4.434342027895559e-06)\n",
      "(['follow', 'me', 'plz'], 4.38578897673973e-10)\n",
      "(['nationals', '2013'], 1.2278382040313926e-10)\n",
      "(['yes', 'lord'], 1.303768903187571e-07)\n",
      "(['happy'], 0.0019479431051112634)\n",
      "(['16', 'million', 'britney', 'fan'], 4.490695251904328e-17)\n"
     ]
    }
   ],
   "source": [
    "test=[None]*30\n",
    "for i in range(30):\n",
    "    test[i] = re.findall(r\"#(\\w+)\", train_pos[i])\n",
    "    splitted = [None]*len(test[i])\n",
    "    for j in range(len(test[i])):\n",
    "        splitted[j] = segment(test[i][j])\n",
    "        \n",
    "        train_pos[i].replace(test[i][j], splitted[j][])\n",
    "        "
   ]
  },
  {
   "cell_type": "code",
   "execution_count": 29,
   "metadata": {},
   "outputs": [
    {
     "data": {
      "text/plain": [
       "(['life', 'completed'], 3.063060041571486e-08)"
      ]
     },
     "execution_count": 29,
     "metadata": {},
     "output_type": "execute_result"
    }
   ],
   "source": [
    "segment('lifecompleted')"
   ]
  },
  {
   "cell_type": "code",
   "execution_count": 27,
   "metadata": {},
   "outputs": [
    {
     "data": {
      "text/plain": [
       "[['believe'],\n",
       " [],\n",
       " ['crakkbitch'],\n",
       " [],\n",
       " [],\n",
       " ['lifecompleted'],\n",
       " ['1dnextalbumtitle', 'yolo', 'followmeplz'],\n",
       " [],\n",
       " [],\n",
       " []]"
      ]
     },
     "execution_count": 27,
     "metadata": {},
     "output_type": "execute_result"
    }
   ],
   "source": [
    "test"
   ]
  },
  {
   "cell_type": "code",
   "execution_count": null,
   "metadata": {},
   "outputs": [],
   "source": []
  }
 ],
 "metadata": {
  "kernelspec": {
   "display_name": "Python 3",
   "language": "python",
   "name": "python3"
  },
  "language_info": {
   "codemirror_mode": {
    "name": "ipython",
    "version": 3
   },
   "file_extension": ".py",
   "mimetype": "text/x-python",
   "name": "python",
   "nbconvert_exporter": "python",
   "pygments_lexer": "ipython3",
   "version": "3.7.4"
  }
 },
 "nbformat": 4,
 "nbformat_minor": 2
}
